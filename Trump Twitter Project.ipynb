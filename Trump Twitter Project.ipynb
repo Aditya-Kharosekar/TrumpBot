{
 "cells": [
  {
   "cell_type": "markdown",
   "metadata": {},
   "source": [
    "# Preprocessing"
   ]
  },
  {
   "cell_type": "code",
   "execution_count": 2,
   "metadata": {
    "collapsed": true
   },
   "outputs": [],
   "source": [
    "import pandas as pd\n",
    "import numpy as np\n",
    "import nltk\n",
    "import re"
   ]
  },
  {
   "cell_type": "code",
   "execution_count": 3,
   "metadata": {
    "collapsed": false
   },
   "outputs": [],
   "source": [
    "trump = pd.read_csv('DonaldTrumpTweets.csv')\n",
    "tweets_series = trump['text']\n",
    "tweets_series = tweets_series.tolist()\n",
    "\n",
    "tweets = []\n",
    "for index in range(len(tweets_series)):\n",
    "    tweets.append(tweets_series[index].split())\n",
    "\n",
    "#at this point, tweets is a list. Each element of tweets is a list of words\n",
    "# print(tweets[5])\n",
    "\n",
    "words = []\n",
    "for i in range(len(tweets)):\n",
    "    for word in tweets[i]:\n",
    "        words.append(word)\n",
    "\n",
    "#now, words is a list which consists of all the words Trump has used in his tweets"
   ]
  },
  {
   "cell_type": "code",
   "execution_count": 4,
   "metadata": {
    "collapsed": false,
    "scrolled": true
   },
   "outputs": [
    {
     "data": {
      "text/plain": [
       "[('the', 9491),\n",
       " ('to', 7251),\n",
       " ('a', 5430),\n",
       " ('is', 5323),\n",
       " ('and', 4479),\n",
       " ('of', 4245),\n",
       " ('in', 4118),\n",
       " ('I', 3513),\n",
       " ('for', 3479),\n",
       " ('on', 2720),\n",
       " ('you', 2680),\n",
       " ('be', 2604),\n",
       " ('@realDonaldTrump', 2504),\n",
       " ('will', 2146),\n",
       " ('that', 1934),\n",
       " ('are', 1855),\n",
       " ('The', 1738),\n",
       " ('have', 1672),\n",
       " ('with', 1454),\n",
       " ('&', 1431)]"
      ]
     },
     "execution_count": 4,
     "metadata": {},
     "output_type": "execute_result"
    }
   ],
   "source": [
    "freq = nltk.FreqDist(words)\n",
    "freq.most_common(20)"
   ]
  },
  {
   "cell_type": "code",
   "execution_count": 12,
   "metadata": {
    "collapsed": false
   },
   "outputs": [],
   "source": [
    "cfreq = nltk.ConditionalFreqDist(nltk.bigrams(words))\n",
    "cprob = nltk.ConditionalProbDist(cfreq, nltk.MLEProbDist)"
   ]
  },
  {
   "cell_type": "code",
   "execution_count": 15,
   "metadata": {
    "collapsed": false
   },
   "outputs": [
    {
     "name": "stdout",
     "output_type": "stream",
     "text": [
      "want Obama.http://bit.ly/SXJA4D I don't run bad television! \"@bethdelany: @realDonaldTrump I don't have such a President--give me questions answered my friends--and even @BarackObama's 47 biggest voter photo ID law, @JamesOkeefeIII exposes more to fail.\" -- Albert Einstein “If you America! \"@alarae37 @realDonaldTrump @BarackObama thinks ObamaCare is a great guy. He wouldn't! "
     ]
    }
   ],
   "source": [
    "w = \"I\"\n",
    "for index in range(50):\n",
    "    w = cprob[w].generate()\n",
    "    print(w, end = \" \")"
   ]
  },
  {
   "cell_type": "code",
   "execution_count": null,
   "metadata": {
    "collapsed": true
   },
   "outputs": [],
   "source": []
  }
 ],
 "metadata": {
  "anaconda-cloud": {},
  "kernelspec": {
   "display_name": "Python [conda root]",
   "language": "python",
   "name": "conda-root-py"
  },
  "language_info": {
   "codemirror_mode": {
    "name": "ipython",
    "version": 3
   },
   "file_extension": ".py",
   "mimetype": "text/x-python",
   "name": "python",
   "nbconvert_exporter": "python",
   "pygments_lexer": "ipython3",
   "version": "3.5.2"
  }
 },
 "nbformat": 4,
 "nbformat_minor": 1
}
