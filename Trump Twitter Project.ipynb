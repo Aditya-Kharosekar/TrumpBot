{
 "cells": [
  {
   "cell_type": "markdown",
   "metadata": {
    "deletable": true,
    "editable": true
   },
   "source": [
    "# Preprocessing"
   ]
  },
  {
   "cell_type": "code",
   "execution_count": 17,
   "metadata": {
    "collapsed": true,
    "deletable": true,
    "editable": true
   },
   "outputs": [],
   "source": [
    "import pandas as pd\n",
    "import numpy as np\n",
    "import nltk\n",
    "import string\n",
    "import re"
   ]
  },
  {
   "cell_type": "markdown",
   "metadata": {
    "deletable": true,
    "editable": true
   },
   "source": [
    "## Getting his most recent ~3200 tweets.\n",
    "\n",
    "The other tweets database that we are using only has his tweets until October 2016"
   ]
  },
  {
   "cell_type": "code",
   "execution_count": 18,
   "metadata": {
    "collapsed": false,
    "deletable": true,
    "editable": true
   },
   "outputs": [],
   "source": [
    "import tweepy\n",
    "import json\n",
    "from tweepy import OAuthHandler\n",
    "import codecs\n",
    "\n",
    "consumer_key = \"i387QW7Eqgh12UHmK3VoQO9K5\"\n",
    "consumer_secret = \"BQI8c5eKale4etdA21mawnFqOmAziDQpnThm679V7UtLjbWlMG\"\n",
    "access_token = \"816857419338764288-S8Ay111O2Mo32QAs88tSnv5uKvmGCkF\"\n",
    "access_secret = \"HVU19yLuV0klltJl1fsDibAi7Hiq1U4GwsEV9kozTAc1m\"\n",
    "\n",
    "auth = OAuthHandler(consumer_key, consumer_secret)\n",
    "auth.set_access_token(access_token, access_secret)\n",
    "\n",
    "api = tweepy.API(auth)\n",
    "\n",
    "all_tweets = []\n",
    "\n",
    "new_tweets = api.user_timeline(screen_name=\"realDonaldTrump\", count=200)\n",
    "\n",
    "\n",
    "all_tweets.extend(new_tweets)\n",
    "oldest = all_tweets[-1].id-1\n",
    "\n",
    "t = new_tweets[0];\n",
    "\n",
    "while len(new_tweets) > 0:\n",
    "   new_tweets = api.user_timeline(screen_name = \"realDonaldTrump\", count=200, max_id = oldest)\n",
    "   all_tweets.extend(new_tweets)\n",
    "   oldest = all_tweets[-1].id-1;"
   ]
  },
  {
   "cell_type": "code",
   "execution_count": 19,
   "metadata": {
    "collapsed": false,
    "deletable": true,
    "editable": true
   },
   "outputs": [],
   "source": [
    "just_text = []\n",
    "for i in range(len(all_tweets)):\n",
    "    just_text.append(all_tweets[i].text)"
   ]
  },
  {
   "cell_type": "code",
   "execution_count": 20,
   "metadata": {
    "collapsed": false,
    "deletable": true,
    "editable": true,
    "scrolled": true
   },
   "outputs": [
    {
     "name": "stdout",
     "output_type": "stream",
     "text": [
      "20442\n"
     ]
    }
   ],
   "source": [
    "trump = pd.read_csv('DonaldTrumpTweets.csv')\n",
    "tweets_series = trump['text']\n",
    "tweets_series = tweets_series.tolist()\n",
    "tweets_series.extend(just_text)\n",
    "print(len(tweets_series))"
   ]
  },
  {
   "cell_type": "markdown",
   "metadata": {
    "deletable": true,
    "editable": true
   },
   "source": [
    "We have ~20k tweets to work with."
   ]
  },
  {
   "cell_type": "code",
   "execution_count": 21,
   "metadata": {
    "collapsed": false,
    "deletable": true,
    "editable": true
   },
   "outputs": [],
   "source": [
    "tweets = []\n",
    "for _ in range(len(tweets_series)):\n",
    "    tweets.append(tweets_series[_].split())\n",
    "\n",
    "#at this point, tweets is a list. Each element of tweets is a list of words\n",
    "\n",
    "for tweet in tweets:\n",
    "    tweet.insert(0, '<s>')\n",
    "    tweet.append('</s>')\n",
    "    \n",
    "words = []\n",
    "for i in range(len(tweets)):\n",
    "    for word in tweets[i]:\n",
    "        words.append(word)\n",
    "\n",
    "# #now, words is a list which consists of all the words Trump has used in his tweets\n",
    "\n",
    "words = [w.lower() for w in words]"
   ]
  },
  {
   "cell_type": "code",
   "execution_count": 22,
   "metadata": {
    "collapsed": false,
    "deletable": true,
    "editable": true,
    "scrolled": false
   },
   "outputs": [
    {
     "name": "stdout",
     "output_type": "stream",
     "text": [
      "[('<s>', 20442), ('</s>', 20442), ('the', 13339), ('to', 8639), ('a', 6702), ('is', 6237), ('and', 5627), ('in', 5264), ('of', 5125), ('i', 4268), ('for', 4213), ('you', 3704), ('on', 3341), ('be', 3221), ('will', 3034), ('@realdonaldtrump', 2739), ('that', 2375), ('are', 2215), ('great', 2062), ('have', 2017)]\n"
     ]
    }
   ],
   "source": [
    "freq = nltk.FreqDist(words)\n",
    "print(freq.most_common(20))"
   ]
  },
  {
   "cell_type": "code",
   "execution_count": 23,
   "metadata": {
    "collapsed": false,
    "deletable": true,
    "editable": true
   },
   "outputs": [],
   "source": [
    "cfreq = nltk.ConditionalFreqDist(nltk.bigrams(words))\n",
    "cprob = nltk.ConditionalProbDist(cfreq, nltk.MLEProbDist)"
   ]
  },
  {
   "cell_type": "code",
   "execution_count": 24,
   "metadata": {
    "collapsed": false,
    "deletable": true,
    "editable": true
   },
   "outputs": [],
   "source": [
    "#generates a tweet, not taking into account the 140 character limit\n",
    "def tweet_generator():\n",
    "    w = \"<s>\"\n",
    "    tweet = \"\"\n",
    "    for index in range(50):\n",
    "        w = cprob[w].generate()\n",
    "        if w=='</s>':\n",
    "            break\n",
    "        tweet += w + \" \"\n",
    "    return tweet"
   ]
  },
  {
   "cell_type": "code",
   "execution_count": 25,
   "metadata": {
    "collapsed": false,
    "deletable": true,
    "editable": true
   },
   "outputs": [
    {
     "name": "stdout",
     "output_type": "stream",
     "text": [
      "thank you! \n",
      "\n",
      "\n",
      "sometimes we hold obama loves our signature collection, tie combination for taxpayers. \n",
      "\n",
      "\n",
      "...at the united states, for president is in \n",
      "\n",
      "\n",
      "everybody was terrible names! \n",
      "\n",
      "\n",
      "i will develop that said, you are viewed as we are taking risks. \n",
      "\n",
      "\n",
      "it comes.\" --benjamin franklin \n",
      "\n",
      "\n",
      "going now in life than the media. his apology-zero control can go to visit the golden eagles \n",
      "\n",
      "\n",
      "\"@carlotalorenabr: the second north carolina. big rally! #americafirst https://t.co/3kwol2ibaw https://t.co/jjde4w1hz2 \n",
      "\n",
      "\n",
      "\"@greenolive_r: @mcuban hey @realdonaldtrump you were the only the world. we must respond to pull out negotiates nowadays. \n",
      "\n",
      "\n",
      "\"@backupwraith: i have gotten smarter than any field \n",
      "\n",
      "\n",
      "don't show the u.s. must stay in @boeing- great again! \n",
      "\n",
      "\n"
     ]
    }
   ],
   "source": [
    "#prints 10 tweets within the character limit\n",
    "counter = 0\n",
    "while counter <= 10:\n",
    "    tweet = tweet_generator()\n",
    "    if len(tweet) <= 140:\n",
    "        print(tweet + \"\\n\\n\")\n",
    "        counter += 1\n",
    "    "
   ]
  },
  {
   "cell_type": "code",
   "execution_count": null,
   "metadata": {
    "collapsed": true
   },
   "outputs": [],
   "source": []
  }
 ],
 "metadata": {
  "anaconda-cloud": {},
  "kernelspec": {
   "display_name": "Python 3",
   "language": "python",
   "name": "python3"
  },
  "language_info": {
   "codemirror_mode": {
    "name": "ipython",
    "version": 3
   },
   "file_extension": ".py",
   "mimetype": "text/x-python",
   "name": "python",
   "nbconvert_exporter": "python",
   "pygments_lexer": "ipython3",
   "version": "3.5.1"
  }
 },
 "nbformat": 4,
 "nbformat_minor": 1
}
